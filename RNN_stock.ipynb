{
  "nbformat": 4,
  "nbformat_minor": 0,
  "metadata": {
    "colab": {
      "name": "RNN_stock.ipynb",
      "provenance": [],
      "collapsed_sections": [],
      "authorship_tag": "ABX9TyMoU2gawvgy6aZtL/iWDB/s",
      "include_colab_link": true
    },
    "kernelspec": {
      "name": "python3",
      "display_name": "Python 3"
    },
    "language_info": {
      "name": "python"
    }
  },
  "cells": [
    {
      "cell_type": "markdown",
      "metadata": {
        "id": "view-in-github",
        "colab_type": "text"
      },
      "source": [
        "<a href=\"https://colab.research.google.com/github/himanshunaidu/rnn_stock/blob/main/RNN_stock.ipynb\" target=\"_parent\"><img src=\"https://colab.research.google.com/assets/colab-badge.svg\" alt=\"Open In Colab\"/></a>"
      ]
    },
    {
      "cell_type": "code",
      "metadata": {
        "id": "QT8koUGi9Zxg"
      },
      "source": [
        "import os\n",
        "import tensorflow as tf\n",
        "import numpy as np\n",
        "import pandas as pd\n",
        "import math\n",
        "from tensorflow.keras.layers import Input, SimpleRNN, Dense, Dropout, Flatten, GlobalMaxPool2D, LeakyReLU, BatchNormalization, LSTM\n",
        "from tensorflow.keras.models import Model\n",
        "from tensorflow.keras.optimizers import Adam\n",
        "from sklearn.preprocessing import StandardScaler"
      ],
      "execution_count": null,
      "outputs": []
    },
    {
      "cell_type": "code",
      "metadata": {
        "id": "EN8-l_dEEGpf"
      },
      "source": [
        "import matplotlib.pyplot as plt"
      ],
      "execution_count": null,
      "outputs": []
    },
    {
      "cell_type": "code",
      "metadata": {
        "id": "Nic-OrXR-AUK",
        "colab": {
          "base_uri": "https://localhost:8080/"
        },
        "outputId": "7fa610c5-3d75-4e9e-da25-c29a5e928d7d"
      },
      "source": [
        "print(tf.__version__)"
      ],
      "execution_count": null,
      "outputs": [
        {
          "output_type": "stream",
          "text": [
            "2.5.0\n"
          ],
          "name": "stdout"
        }
      ]
    },
    {
      "cell_type": "code",
      "metadata": {
        "colab": {
          "base_uri": "https://localhost:8080/"
        },
        "id": "idZ6PCckCH_Y",
        "outputId": "a43c453f-88dd-4244-d09b-da8d4b0253f2"
      },
      "source": [
        "from google.colab import drive\n",
        "drive.mount('/content/gdrive', force_remount=True)"
      ],
      "execution_count": null,
      "outputs": [
        {
          "output_type": "stream",
          "text": [
            "Mounted at /content/gdrive\n"
          ],
          "name": "stdout"
        }
      ]
    },
    {
      "cell_type": "code",
      "metadata": {
        "colab": {
          "base_uri": "https://localhost:8080/"
        },
        "id": "MzAQbQn6EWDa",
        "outputId": "2e14d425-a4bd-4cbe-cffe-4a749d162f06"
      },
      "source": [
        "cd gdrive/MyDrive/Colab\\ Notebooks"
      ],
      "execution_count": null,
      "outputs": [
        {
          "output_type": "stream",
          "text": [
            "/content/gdrive/MyDrive/Colab Notebooks\n"
          ],
          "name": "stdout"
        }
      ]
    },
    {
      "cell_type": "code",
      "metadata": {
        "id": "31X5sgXeEc8X"
      },
      "source": [
        "df = pd.read_csv('ADANIPORTS.csv')"
      ],
      "execution_count": null,
      "outputs": []
    },
    {
      "cell_type": "code",
      "metadata": {
        "colab": {
          "base_uri": "https://localhost:8080/",
          "height": 195
        },
        "id": "VUCzaj0QGf-D",
        "outputId": "a4b06251-2efa-446b-c854-539740a0b6b8"
      },
      "source": [
        "df.head()"
      ],
      "execution_count": null,
      "outputs": [
        {
          "output_type": "execute_result",
          "data": {
            "text/html": [
              "<div>\n",
              "<style scoped>\n",
              "    .dataframe tbody tr th:only-of-type {\n",
              "        vertical-align: middle;\n",
              "    }\n",
              "\n",
              "    .dataframe tbody tr th {\n",
              "        vertical-align: top;\n",
              "    }\n",
              "\n",
              "    .dataframe thead th {\n",
              "        text-align: right;\n",
              "    }\n",
              "</style>\n",
              "<table border=\"1\" class=\"dataframe\">\n",
              "  <thead>\n",
              "    <tr style=\"text-align: right;\">\n",
              "      <th></th>\n",
              "      <th>Date</th>\n",
              "      <th>Symbol</th>\n",
              "      <th>Series</th>\n",
              "      <th>Prev Close</th>\n",
              "      <th>Open</th>\n",
              "      <th>High</th>\n",
              "      <th>Low</th>\n",
              "      <th>Last</th>\n",
              "      <th>Close</th>\n",
              "      <th>VWAP</th>\n",
              "      <th>Volume</th>\n",
              "      <th>Turnover</th>\n",
              "      <th>Trades</th>\n",
              "      <th>Deliverable Volume</th>\n",
              "      <th>%Deliverble</th>\n",
              "    </tr>\n",
              "  </thead>\n",
              "  <tbody>\n",
              "    <tr>\n",
              "      <th>0</th>\n",
              "      <td>2007-11-27</td>\n",
              "      <td>MUNDRAPORT</td>\n",
              "      <td>EQ</td>\n",
              "      <td>440.00</td>\n",
              "      <td>770.00</td>\n",
              "      <td>1050.00</td>\n",
              "      <td>770.0</td>\n",
              "      <td>959.0</td>\n",
              "      <td>962.90</td>\n",
              "      <td>984.72</td>\n",
              "      <td>27294366</td>\n",
              "      <td>2.687719e+15</td>\n",
              "      <td>NaN</td>\n",
              "      <td>9859619</td>\n",
              "      <td>0.3612</td>\n",
              "    </tr>\n",
              "    <tr>\n",
              "      <th>1</th>\n",
              "      <td>2007-11-28</td>\n",
              "      <td>MUNDRAPORT</td>\n",
              "      <td>EQ</td>\n",
              "      <td>962.90</td>\n",
              "      <td>984.00</td>\n",
              "      <td>990.00</td>\n",
              "      <td>874.0</td>\n",
              "      <td>885.0</td>\n",
              "      <td>893.90</td>\n",
              "      <td>941.38</td>\n",
              "      <td>4581338</td>\n",
              "      <td>4.312765e+14</td>\n",
              "      <td>NaN</td>\n",
              "      <td>1453278</td>\n",
              "      <td>0.3172</td>\n",
              "    </tr>\n",
              "    <tr>\n",
              "      <th>2</th>\n",
              "      <td>2007-11-29</td>\n",
              "      <td>MUNDRAPORT</td>\n",
              "      <td>EQ</td>\n",
              "      <td>893.90</td>\n",
              "      <td>909.00</td>\n",
              "      <td>914.75</td>\n",
              "      <td>841.0</td>\n",
              "      <td>887.0</td>\n",
              "      <td>884.20</td>\n",
              "      <td>888.09</td>\n",
              "      <td>5124121</td>\n",
              "      <td>4.550658e+14</td>\n",
              "      <td>NaN</td>\n",
              "      <td>1069678</td>\n",
              "      <td>0.2088</td>\n",
              "    </tr>\n",
              "    <tr>\n",
              "      <th>3</th>\n",
              "      <td>2007-11-30</td>\n",
              "      <td>MUNDRAPORT</td>\n",
              "      <td>EQ</td>\n",
              "      <td>884.20</td>\n",
              "      <td>890.00</td>\n",
              "      <td>958.00</td>\n",
              "      <td>890.0</td>\n",
              "      <td>929.0</td>\n",
              "      <td>921.55</td>\n",
              "      <td>929.17</td>\n",
              "      <td>4609762</td>\n",
              "      <td>4.283257e+14</td>\n",
              "      <td>NaN</td>\n",
              "      <td>1260913</td>\n",
              "      <td>0.2735</td>\n",
              "    </tr>\n",
              "    <tr>\n",
              "      <th>4</th>\n",
              "      <td>2007-12-03</td>\n",
              "      <td>MUNDRAPORT</td>\n",
              "      <td>EQ</td>\n",
              "      <td>921.55</td>\n",
              "      <td>939.75</td>\n",
              "      <td>995.00</td>\n",
              "      <td>922.0</td>\n",
              "      <td>980.0</td>\n",
              "      <td>969.30</td>\n",
              "      <td>965.65</td>\n",
              "      <td>2977470</td>\n",
              "      <td>2.875200e+14</td>\n",
              "      <td>NaN</td>\n",
              "      <td>816123</td>\n",
              "      <td>0.2741</td>\n",
              "    </tr>\n",
              "  </tbody>\n",
              "</table>\n",
              "</div>"
            ],
            "text/plain": [
              "         Date      Symbol Series  ...  Trades  Deliverable Volume  %Deliverble\n",
              "0  2007-11-27  MUNDRAPORT     EQ  ...     NaN             9859619       0.3612\n",
              "1  2007-11-28  MUNDRAPORT     EQ  ...     NaN             1453278       0.3172\n",
              "2  2007-11-29  MUNDRAPORT     EQ  ...     NaN             1069678       0.2088\n",
              "3  2007-11-30  MUNDRAPORT     EQ  ...     NaN             1260913       0.2735\n",
              "4  2007-12-03  MUNDRAPORT     EQ  ...     NaN              816123       0.2741\n",
              "\n",
              "[5 rows x 15 columns]"
            ]
          },
          "metadata": {
            "tags": []
          },
          "execution_count": 14
        }
      ]
    },
    {
      "cell_type": "code",
      "metadata": {
        "colab": {
          "base_uri": "https://localhost:8080/",
          "height": 195
        },
        "id": "bEipvykIGgAP",
        "outputId": "e83f7070-6f26-4cdc-ab9e-e814f1b8c378"
      },
      "source": [
        "df.tail()"
      ],
      "execution_count": null,
      "outputs": [
        {
          "output_type": "execute_result",
          "data": {
            "text/html": [
              "<div>\n",
              "<style scoped>\n",
              "    .dataframe tbody tr th:only-of-type {\n",
              "        vertical-align: middle;\n",
              "    }\n",
              "\n",
              "    .dataframe tbody tr th {\n",
              "        vertical-align: top;\n",
              "    }\n",
              "\n",
              "    .dataframe thead th {\n",
              "        text-align: right;\n",
              "    }\n",
              "</style>\n",
              "<table border=\"1\" class=\"dataframe\">\n",
              "  <thead>\n",
              "    <tr style=\"text-align: right;\">\n",
              "      <th></th>\n",
              "      <th>Date</th>\n",
              "      <th>Symbol</th>\n",
              "      <th>Series</th>\n",
              "      <th>Prev Close</th>\n",
              "      <th>Open</th>\n",
              "      <th>High</th>\n",
              "      <th>Low</th>\n",
              "      <th>Last</th>\n",
              "      <th>Close</th>\n",
              "      <th>VWAP</th>\n",
              "      <th>Volume</th>\n",
              "      <th>Turnover</th>\n",
              "      <th>Trades</th>\n",
              "      <th>Deliverable Volume</th>\n",
              "      <th>%Deliverble</th>\n",
              "    </tr>\n",
              "  </thead>\n",
              "  <tbody>\n",
              "    <tr>\n",
              "      <th>3317</th>\n",
              "      <td>2021-04-26</td>\n",
              "      <td>ADANIPORTS</td>\n",
              "      <td>EQ</td>\n",
              "      <td>725.35</td>\n",
              "      <td>733.0</td>\n",
              "      <td>739.65</td>\n",
              "      <td>728.90</td>\n",
              "      <td>729.2</td>\n",
              "      <td>730.75</td>\n",
              "      <td>733.25</td>\n",
              "      <td>9390549</td>\n",
              "      <td>6.885658e+14</td>\n",
              "      <td>116457.0</td>\n",
              "      <td>838079</td>\n",
              "      <td>0.0892</td>\n",
              "    </tr>\n",
              "    <tr>\n",
              "      <th>3318</th>\n",
              "      <td>2021-04-27</td>\n",
              "      <td>ADANIPORTS</td>\n",
              "      <td>EQ</td>\n",
              "      <td>730.75</td>\n",
              "      <td>735.0</td>\n",
              "      <td>757.50</td>\n",
              "      <td>727.35</td>\n",
              "      <td>748.6</td>\n",
              "      <td>749.15</td>\n",
              "      <td>747.67</td>\n",
              "      <td>20573107</td>\n",
              "      <td>1.538191e+15</td>\n",
              "      <td>236896.0</td>\n",
              "      <td>1779639</td>\n",
              "      <td>0.0865</td>\n",
              "    </tr>\n",
              "    <tr>\n",
              "      <th>3319</th>\n",
              "      <td>2021-04-28</td>\n",
              "      <td>ADANIPORTS</td>\n",
              "      <td>EQ</td>\n",
              "      <td>749.15</td>\n",
              "      <td>755.0</td>\n",
              "      <td>760.00</td>\n",
              "      <td>741.10</td>\n",
              "      <td>743.4</td>\n",
              "      <td>746.25</td>\n",
              "      <td>751.02</td>\n",
              "      <td>11156977</td>\n",
              "      <td>8.379106e+14</td>\n",
              "      <td>130847.0</td>\n",
              "      <td>1342353</td>\n",
              "      <td>0.1203</td>\n",
              "    </tr>\n",
              "    <tr>\n",
              "      <th>3320</th>\n",
              "      <td>2021-04-29</td>\n",
              "      <td>ADANIPORTS</td>\n",
              "      <td>EQ</td>\n",
              "      <td>746.25</td>\n",
              "      <td>753.2</td>\n",
              "      <td>765.85</td>\n",
              "      <td>743.40</td>\n",
              "      <td>746.4</td>\n",
              "      <td>746.75</td>\n",
              "      <td>753.06</td>\n",
              "      <td>13851910</td>\n",
              "      <td>1.043139e+15</td>\n",
              "      <td>153293.0</td>\n",
              "      <td>1304895</td>\n",
              "      <td>0.0942</td>\n",
              "    </tr>\n",
              "    <tr>\n",
              "      <th>3321</th>\n",
              "      <td>2021-04-30</td>\n",
              "      <td>ADANIPORTS</td>\n",
              "      <td>EQ</td>\n",
              "      <td>746.75</td>\n",
              "      <td>739.0</td>\n",
              "      <td>759.45</td>\n",
              "      <td>724.50</td>\n",
              "      <td>726.4</td>\n",
              "      <td>730.05</td>\n",
              "      <td>743.35</td>\n",
              "      <td>12600934</td>\n",
              "      <td>9.366911e+14</td>\n",
              "      <td>132141.0</td>\n",
              "      <td>3514692</td>\n",
              "      <td>0.2789</td>\n",
              "    </tr>\n",
              "  </tbody>\n",
              "</table>\n",
              "</div>"
            ],
            "text/plain": [
              "            Date      Symbol Series  ...    Trades  Deliverable Volume  %Deliverble\n",
              "3317  2021-04-26  ADANIPORTS     EQ  ...  116457.0              838079       0.0892\n",
              "3318  2021-04-27  ADANIPORTS     EQ  ...  236896.0             1779639       0.0865\n",
              "3319  2021-04-28  ADANIPORTS     EQ  ...  130847.0             1342353       0.1203\n",
              "3320  2021-04-29  ADANIPORTS     EQ  ...  153293.0             1304895       0.0942\n",
              "3321  2021-04-30  ADANIPORTS     EQ  ...  132141.0             3514692       0.2789\n",
              "\n",
              "[5 rows x 15 columns]"
            ]
          },
          "metadata": {
            "tags": []
          },
          "execution_count": 15
        }
      ]
    },
    {
      "cell_type": "code",
      "metadata": {
        "colab": {
          "base_uri": "https://localhost:8080/"
        },
        "id": "wBG83Gu-40yp",
        "outputId": "e9edc6b2-2959-4b9c-c396-6ba329e28905"
      },
      "source": [
        "close = df['Close'].values\n",
        "# print(close.max())\n",
        "# print(close[(close>300) & (close<400)].shape)\n",
        "rounded = np.around(close, decimals=-1)\n",
        "unique, counts = np.unique(rounded, return_counts=True)\n",
        "unq_cnts = np.asarray((unique, counts)).T\n",
        "# print(unq_cnts[unq_cnts[:, 1]>100, :])"
      ],
      "execution_count": null,
      "outputs": [
        {
          "output_type": "stream",
          "text": [
            "1307.45\n"
          ],
          "name": "stdout"
        }
      ]
    },
    {
      "cell_type": "code",
      "metadata": {
        "colab": {
          "base_uri": "https://localhost:8080/"
        },
        "id": "IMvbAm2P2kqh",
        "outputId": "4a8d76cc-2226-41d0-e639-178cc5bc85b2"
      },
      "source": [
        "series = df['Close'].values.reshape(-1, 1)\n",
        "print(type(series), series.shape)"
      ],
      "execution_count": null,
      "outputs": [
        {
          "output_type": "stream",
          "text": [
            "<class 'numpy.ndarray'> (3322, 1)\n"
          ],
          "name": "stdout"
        }
      ]
    },
    {
      "cell_type": "code",
      "metadata": {
        "colab": {
          "base_uri": "https://localhost:8080/"
        },
        "id": "6I2FnG722ktH",
        "outputId": "b94f6f0b-03ae-46f2-d0c0-d10ec41609cf"
      },
      "source": [
        "scaler = StandardScaler()\n",
        "scaler.fit(series[:len(series)//2])\n",
        "print(scaler.mean_, scaler.var_)"
      ],
      "execution_count": null,
      "outputs": [
        {
          "output_type": "stream",
          "text": [
            "[339.59641782] [65893.01566598]\n"
          ],
          "name": "stdout"
        }
      ]
    },
    {
      "cell_type": "code",
      "metadata": {
        "id": "jGzLJ38A2kvb"
      },
      "source": [
        "series = scaler.transform(series).flatten(order='A')"
      ],
      "execution_count": null,
      "outputs": []
    },
    {
      "cell_type": "code",
      "metadata": {
        "colab": {
          "base_uri": "https://localhost:8080/"
        },
        "id": "j2T9MuYT_Krj",
        "outputId": "ad29794f-999f-4cf0-c241-4e129c005280"
      },
      "source": [
        "print(series.shape)"
      ],
      "execution_count": null,
      "outputs": [
        {
          "output_type": "stream",
          "text": [
            "(3322,)\n"
          ],
          "name": "stdout"
        }
      ]
    },
    {
      "cell_type": "code",
      "metadata": {
        "colab": {
          "base_uri": "https://localhost:8080/"
        },
        "id": "i5eiw8Z_-1XA",
        "outputId": "71d9557a-c153-4d44-c649-a561266b0367"
      },
      "source": [
        "T = 10 #length of input (Previous T values)\n",
        "D = 1 #no of features\n",
        "X = np.zeros(shape=(series.shape[0]-T, T))\n",
        "Y = np.zeros(shape=(series.shape[0]-T))\n",
        "\n",
        "for i in range(series.shape[0]-T):\n",
        "  # x = series[i: i+T]\n",
        "  # print(x.shape)\n",
        "  X[i] = series[i: i+T]\n",
        "  Y[i] = series[i+T]\n",
        "\n",
        "X = X.reshape(-1, T, D) #Shape of input to RNN should be NXTXD (by convention)\n",
        "N = X.shape[0]\n",
        "print(N)"
      ],
      "execution_count": null,
      "outputs": [
        {
          "output_type": "stream",
          "text": [
            "3312\n"
          ],
          "name": "stdout"
        }
      ]
    },
    {
      "cell_type": "code",
      "metadata": {
        "colab": {
          "base_uri": "https://localhost:8080/"
        },
        "id": "PwPECqYeC_sf",
        "outputId": "a71bda7f-d908-4ae9-fa4b-498d16b1427d"
      },
      "source": [
        "print(N//2)"
      ],
      "execution_count": null,
      "outputs": [
        {
          "output_type": "stream",
          "text": [
            "1656\n"
          ],
          "name": "stdout"
        }
      ]
    },
    {
      "cell_type": "code",
      "metadata": {
        "id": "parRbphy-1ZT"
      },
      "source": [
        "#LSTM for stock-prediction\n",
        "def createNetwork():\n",
        "  input = Input(shape=(T, D))\n",
        "  x = LSTM(5, activation=LeakyReLU(alpha=0.3))(input)\n",
        "  x = Dense(1)(x)\n",
        "  model = Model(input, x)\n",
        "  return model"
      ],
      "execution_count": null,
      "outputs": []
    },
    {
      "cell_type": "code",
      "metadata": {
        "colab": {
          "base_uri": "https://localhost:8080/"
        },
        "id": "0FAbJIBCDzFJ",
        "outputId": "c7b52645-8270-4c35-b73c-5e4c64fe21ce"
      },
      "source": [
        "print(X[:N//2].shape)"
      ],
      "execution_count": null,
      "outputs": [
        {
          "output_type": "stream",
          "text": [
            "(1656, 10, 1)\n"
          ],
          "name": "stdout"
        }
      ]
    },
    {
      "cell_type": "code",
      "metadata": {
        "colab": {
          "base_uri": "https://localhost:8080/"
        },
        "id": "wYauI7Cb-1b5",
        "outputId": "88044e35-b7ce-4bd1-8ed9-f409da5968c0"
      },
      "source": [
        "model = createNetwork()\n",
        "model.compile(loss='mse', optimizer=Adam(learning_rate=0.1))\n",
        "r = model.fit(X[:N//2], Y[:N//2], validation_data=(X[N//2:], Y[N//2:]), epochs=100) "
      ],
      "execution_count": null,
      "outputs": [
        {
          "output_type": "stream",
          "text": [
            "Epoch 1/100\n",
            "52/52 [==============================] - 2s 10ms/step - loss: 0.5173 - val_loss: 0.0950\n",
            "Epoch 2/100\n",
            "52/52 [==============================] - 0s 7ms/step - loss: 0.0254 - val_loss: 0.0107\n",
            "Epoch 3/100\n",
            "52/52 [==============================] - 0s 7ms/step - loss: 0.0123 - val_loss: 0.0018\n",
            "Epoch 4/100\n",
            "52/52 [==============================] - 0s 6ms/step - loss: 0.0101 - val_loss: 0.0017\n",
            "Epoch 5/100\n",
            "52/52 [==============================] - 0s 7ms/step - loss: 0.0098 - val_loss: 0.0029\n",
            "Epoch 6/100\n",
            "52/52 [==============================] - 0s 7ms/step - loss: 0.0091 - val_loss: 0.0012\n",
            "Epoch 7/100\n",
            "52/52 [==============================] - 0s 6ms/step - loss: 0.0081 - val_loss: 0.0012\n",
            "Epoch 8/100\n",
            "52/52 [==============================] - 0s 7ms/step - loss: 0.0086 - val_loss: 0.0017\n",
            "Epoch 9/100\n",
            "52/52 [==============================] - 0s 8ms/step - loss: 0.0087 - val_loss: 0.0014\n",
            "Epoch 10/100\n",
            "52/52 [==============================] - 0s 7ms/step - loss: 0.0078 - val_loss: 0.0016\n",
            "Epoch 11/100\n",
            "52/52 [==============================] - 0s 7ms/step - loss: 0.0086 - val_loss: 0.0024\n",
            "Epoch 12/100\n",
            "52/52 [==============================] - 0s 6ms/step - loss: 0.0087 - val_loss: 0.0022\n",
            "Epoch 13/100\n",
            "52/52 [==============================] - 0s 7ms/step - loss: 0.0087 - val_loss: 0.0016\n",
            "Epoch 14/100\n",
            "52/52 [==============================] - 0s 7ms/step - loss: 0.0078 - val_loss: 0.0017\n",
            "Epoch 15/100\n",
            "52/52 [==============================] - 0s 6ms/step - loss: 0.0082 - val_loss: 0.0020\n",
            "Epoch 16/100\n",
            "52/52 [==============================] - 0s 7ms/step - loss: 0.0089 - val_loss: 0.0012\n",
            "Epoch 17/100\n",
            "52/52 [==============================] - 0s 7ms/step - loss: 0.0083 - val_loss: 0.0012\n",
            "Epoch 18/100\n",
            "52/52 [==============================] - 0s 6ms/step - loss: 0.0090 - val_loss: 0.0022\n",
            "Epoch 19/100\n",
            "52/52 [==============================] - 0s 6ms/step - loss: 0.0076 - val_loss: 0.0035\n",
            "Epoch 20/100\n",
            "52/52 [==============================] - 0s 7ms/step - loss: 0.0088 - val_loss: 0.0015\n",
            "Epoch 21/100\n",
            "52/52 [==============================] - 0s 6ms/step - loss: 0.0089 - val_loss: 0.0012\n",
            "Epoch 22/100\n",
            "52/52 [==============================] - 0s 7ms/step - loss: 0.0082 - val_loss: 0.0013\n",
            "Epoch 23/100\n",
            "52/52 [==============================] - 0s 7ms/step - loss: 0.0089 - val_loss: 0.0012\n",
            "Epoch 24/100\n",
            "52/52 [==============================] - 0s 8ms/step - loss: 0.0086 - val_loss: 0.0014\n",
            "Epoch 25/100\n",
            "52/52 [==============================] - 0s 8ms/step - loss: 0.0088 - val_loss: 0.0029\n",
            "Epoch 26/100\n",
            "52/52 [==============================] - 0s 8ms/step - loss: 0.0078 - val_loss: 0.0027\n",
            "Epoch 27/100\n",
            "52/52 [==============================] - 0s 7ms/step - loss: 0.0090 - val_loss: 0.0012\n",
            "Epoch 28/100\n",
            "52/52 [==============================] - 0s 7ms/step - loss: 0.0080 - val_loss: 0.0020\n",
            "Epoch 29/100\n",
            "52/52 [==============================] - 0s 6ms/step - loss: 0.0089 - val_loss: 0.0018\n",
            "Epoch 30/100\n",
            "52/52 [==============================] - 0s 7ms/step - loss: 0.0080 - val_loss: 0.0019\n",
            "Epoch 31/100\n",
            "52/52 [==============================] - 0s 7ms/step - loss: 0.0097 - val_loss: 0.0012\n",
            "Epoch 32/100\n",
            "52/52 [==============================] - 0s 7ms/step - loss: 0.0077 - val_loss: 0.0086\n",
            "Epoch 33/100\n",
            "52/52 [==============================] - 0s 8ms/step - loss: 0.0103 - val_loss: 0.0016\n",
            "Epoch 34/100\n",
            "52/52 [==============================] - 0s 8ms/step - loss: 0.0096 - val_loss: 0.0013\n",
            "Epoch 35/100\n",
            "52/52 [==============================] - 0s 7ms/step - loss: 0.0088 - val_loss: 0.0012\n",
            "Epoch 36/100\n",
            "52/52 [==============================] - 0s 7ms/step - loss: 0.0088 - val_loss: 0.0113\n",
            "Epoch 37/100\n",
            "52/52 [==============================] - 0s 6ms/step - loss: 0.0113 - val_loss: 0.0012\n",
            "Epoch 38/100\n",
            "52/52 [==============================] - 0s 7ms/step - loss: 0.0079 - val_loss: 0.0014\n",
            "Epoch 39/100\n",
            "52/52 [==============================] - 0s 8ms/step - loss: 0.0083 - val_loss: 0.0014\n",
            "Epoch 40/100\n",
            "52/52 [==============================] - 0s 7ms/step - loss: 0.0084 - val_loss: 0.0051\n",
            "Epoch 41/100\n",
            "52/52 [==============================] - 0s 7ms/step - loss: 0.0087 - val_loss: 0.0058\n",
            "Epoch 42/100\n",
            "52/52 [==============================] - 0s 7ms/step - loss: 0.0090 - val_loss: 0.0013\n",
            "Epoch 43/100\n",
            "52/52 [==============================] - 0s 7ms/step - loss: 0.0105 - val_loss: 0.0016\n",
            "Epoch 44/100\n",
            "52/52 [==============================] - 0s 7ms/step - loss: 0.0084 - val_loss: 0.0012\n",
            "Epoch 45/100\n",
            "52/52 [==============================] - 0s 7ms/step - loss: 0.0085 - val_loss: 0.0016\n",
            "Epoch 46/100\n",
            "52/52 [==============================] - 0s 6ms/step - loss: 0.0080 - val_loss: 0.0103\n",
            "Epoch 47/100\n",
            "52/52 [==============================] - 0s 7ms/step - loss: 0.0116 - val_loss: 0.0034\n",
            "Epoch 48/100\n",
            "52/52 [==============================] - 0s 7ms/step - loss: 0.0087 - val_loss: 0.0025\n",
            "Epoch 49/100\n",
            "52/52 [==============================] - 0s 7ms/step - loss: 0.0084 - val_loss: 0.0014\n",
            "Epoch 50/100\n",
            "52/52 [==============================] - 0s 7ms/step - loss: 0.0094 - val_loss: 0.0012\n",
            "Epoch 51/100\n",
            "52/52 [==============================] - 0s 7ms/step - loss: 0.0088 - val_loss: 0.0024\n",
            "Epoch 52/100\n",
            "52/52 [==============================] - 0s 7ms/step - loss: 0.0099 - val_loss: 0.0070\n",
            "Epoch 53/100\n",
            "52/52 [==============================] - 0s 7ms/step - loss: 0.0088 - val_loss: 0.0077\n",
            "Epoch 54/100\n",
            "52/52 [==============================] - 0s 7ms/step - loss: 0.0105 - val_loss: 0.0033\n",
            "Epoch 55/100\n",
            "52/52 [==============================] - 0s 7ms/step - loss: 0.0087 - val_loss: 0.0011\n",
            "Epoch 56/100\n",
            "52/52 [==============================] - 0s 8ms/step - loss: 0.0101 - val_loss: 0.0013\n",
            "Epoch 57/100\n",
            "52/52 [==============================] - 0s 8ms/step - loss: 0.0080 - val_loss: 0.0045\n",
            "Epoch 58/100\n",
            "52/52 [==============================] - 0s 7ms/step - loss: 0.0085 - val_loss: 0.0013\n",
            "Epoch 59/100\n",
            "52/52 [==============================] - 0s 9ms/step - loss: 0.0090 - val_loss: 0.0014\n",
            "Epoch 60/100\n",
            "52/52 [==============================] - 0s 7ms/step - loss: 0.0100 - val_loss: 0.0013\n",
            "Epoch 61/100\n",
            "52/52 [==============================] - 0s 7ms/step - loss: 0.0083 - val_loss: 0.0019\n",
            "Epoch 62/100\n",
            "52/52 [==============================] - 0s 7ms/step - loss: 0.0079 - val_loss: 0.0156\n",
            "Epoch 63/100\n",
            "52/52 [==============================] - 0s 7ms/step - loss: 0.0135 - val_loss: 0.0034\n",
            "Epoch 64/100\n",
            "52/52 [==============================] - 0s 7ms/step - loss: 0.0092 - val_loss: 0.0011\n",
            "Epoch 65/100\n",
            "52/52 [==============================] - 0s 7ms/step - loss: 0.0077 - val_loss: 0.0053\n",
            "Epoch 66/100\n",
            "52/52 [==============================] - 0s 7ms/step - loss: 0.0088 - val_loss: 0.0012\n",
            "Epoch 67/100\n",
            "52/52 [==============================] - 0s 8ms/step - loss: 0.0089 - val_loss: 0.0017\n",
            "Epoch 68/100\n",
            "52/52 [==============================] - 0s 6ms/step - loss: 0.0081 - val_loss: 0.0021\n",
            "Epoch 69/100\n",
            "52/52 [==============================] - 0s 9ms/step - loss: 0.0113 - val_loss: 0.0021\n",
            "Epoch 70/100\n",
            "52/52 [==============================] - 0s 7ms/step - loss: 0.0099 - val_loss: 0.0016\n",
            "Epoch 71/100\n",
            "52/52 [==============================] - 0s 6ms/step - loss: 0.0088 - val_loss: 0.0031\n",
            "Epoch 72/100\n",
            "52/52 [==============================] - 0s 6ms/step - loss: 0.0093 - val_loss: 0.0011\n",
            "Epoch 73/100\n",
            "52/52 [==============================] - 0s 7ms/step - loss: 0.0083 - val_loss: 0.0017\n",
            "Epoch 74/100\n",
            "52/52 [==============================] - 0s 6ms/step - loss: 0.0121 - val_loss: 0.0012\n",
            "Epoch 75/100\n",
            "52/52 [==============================] - 0s 7ms/step - loss: 0.0089 - val_loss: 0.0046\n",
            "Epoch 76/100\n",
            "52/52 [==============================] - 0s 8ms/step - loss: 0.0085 - val_loss: 0.0043\n",
            "Epoch 77/100\n",
            "52/52 [==============================] - 0s 7ms/step - loss: 0.0086 - val_loss: 0.0064\n",
            "Epoch 78/100\n",
            "52/52 [==============================] - 0s 6ms/step - loss: 0.0105 - val_loss: 0.0012\n",
            "Epoch 79/100\n",
            "52/52 [==============================] - 0s 6ms/step - loss: 0.0082 - val_loss: 0.0017\n",
            "Epoch 80/100\n",
            "52/52 [==============================] - 0s 7ms/step - loss: 0.0091 - val_loss: 0.0015\n",
            "Epoch 81/100\n",
            "52/52 [==============================] - 0s 6ms/step - loss: 0.0109 - val_loss: 0.0027\n",
            "Epoch 82/100\n",
            "52/52 [==============================] - 0s 7ms/step - loss: 0.0090 - val_loss: 0.0026\n",
            "Epoch 83/100\n",
            "52/52 [==============================] - 0s 7ms/step - loss: 0.0103 - val_loss: 0.0014\n",
            "Epoch 84/100\n",
            "52/52 [==============================] - 0s 7ms/step - loss: 0.0092 - val_loss: 0.0018\n",
            "Epoch 85/100\n",
            "52/52 [==============================] - 0s 7ms/step - loss: 0.0116 - val_loss: 0.0021\n",
            "Epoch 86/100\n",
            "52/52 [==============================] - 0s 7ms/step - loss: 0.0085 - val_loss: 0.0044\n",
            "Epoch 87/100\n",
            "52/52 [==============================] - 0s 7ms/step - loss: 0.0116 - val_loss: 0.0030\n",
            "Epoch 88/100\n",
            "52/52 [==============================] - 0s 7ms/step - loss: 0.0097 - val_loss: 0.0022\n",
            "Epoch 89/100\n",
            "52/52 [==============================] - 0s 7ms/step - loss: 0.0102 - val_loss: 0.0015\n",
            "Epoch 90/100\n",
            "52/52 [==============================] - 0s 7ms/step - loss: 0.0094 - val_loss: 0.0019\n",
            "Epoch 91/100\n",
            "52/52 [==============================] - 0s 7ms/step - loss: 0.0105 - val_loss: 0.0012\n",
            "Epoch 92/100\n",
            "52/52 [==============================] - 0s 7ms/step - loss: 0.0097 - val_loss: 0.0015\n",
            "Epoch 93/100\n",
            "52/52 [==============================] - 0s 7ms/step - loss: 0.0083 - val_loss: 0.0013\n",
            "Epoch 94/100\n",
            "52/52 [==============================] - 0s 7ms/step - loss: 0.0102 - val_loss: 0.0012\n",
            "Epoch 95/100\n",
            "52/52 [==============================] - 0s 7ms/step - loss: 0.0092 - val_loss: 0.0021\n",
            "Epoch 96/100\n",
            "52/52 [==============================] - 0s 6ms/step - loss: 0.0111 - val_loss: 0.0039\n",
            "Epoch 97/100\n",
            "52/52 [==============================] - 0s 7ms/step - loss: 0.0086 - val_loss: 0.0122\n",
            "Epoch 98/100\n",
            "52/52 [==============================] - 0s 7ms/step - loss: 0.0130 - val_loss: 0.0012\n",
            "Epoch 99/100\n",
            "52/52 [==============================] - 0s 6ms/step - loss: 0.0107 - val_loss: 0.0012\n",
            "Epoch 100/100\n",
            "52/52 [==============================] - 0s 7ms/step - loss: 0.0089 - val_loss: 0.0022\n"
          ],
          "name": "stdout"
        }
      ]
    },
    {
      "cell_type": "code",
      "metadata": {
        "colab": {
          "base_uri": "https://localhost:8080/",
          "height": 302
        },
        "id": "Ed6Haxv5-1dx",
        "outputId": "9915b1b8-57ca-4f50-c167-36f4aeccd73f"
      },
      "source": [
        "plt.plot(r.history['loss'], label='loss')\n",
        "plt.plot(r.history['val_loss'], label='val_loss')\n",
        "plt.legend()\n",
        "print(r.history['loss'], r.history['val_loss'])\n",
        "\n",
        "plt.show()"
      ],
      "execution_count": null,
      "outputs": [
        {
          "output_type": "stream",
          "text": [
            "[0.5173277258872986, 0.02539660781621933, 0.012263040989637375, 0.010111807845532894, 0.009847024455666542, 0.009054184891283512, 0.008105522021651268, 0.00861685536801815, 0.00866195559501648, 0.0078055476769804955, 0.00857985857874155, 0.008672253228724003, 0.008701896294951439, 0.0077861035242676735, 0.008188996464014053, 0.008877414278686047, 0.008344004862010479, 0.009003723971545696, 0.007588904816657305, 0.008808687329292297, 0.008911972865462303, 0.008215763606131077, 0.008875276893377304, 0.00855098944157362, 0.008775007911026478, 0.007802629377692938, 0.009021112695336342, 0.00802881084382534, 0.008916705846786499, 0.008028303273022175, 0.009697159752249718, 0.007724965922534466, 0.01030523981899023, 0.009618991985917091, 0.008766984567046165, 0.008795969188213348, 0.011342067271471024, 0.007915806025266647, 0.008265565149486065, 0.008413081988692284, 0.008685553446412086, 0.008954870514571667, 0.010477195493876934, 0.008415445685386658, 0.008544349111616611, 0.00803943257778883, 0.011608149856328964, 0.008678583428263664, 0.008393364027142525, 0.009426798671483994, 0.008754737675189972, 0.009881880134344101, 0.008804033510386944, 0.010518725030124187, 0.008742799051105976, 0.010100184008479118, 0.007981924340128899, 0.008534744381904602, 0.008966594934463501, 0.0099872425198555, 0.008330815471708775, 0.007907452993094921, 0.01347543578594923, 0.009153928607702255, 0.007742361631244421, 0.008810180239379406, 0.008920032531023026, 0.008127386681735516, 0.011324789375066757, 0.009882722981274128, 0.008821685798466206, 0.009289681911468506, 0.008338961750268936, 0.012105923146009445, 0.008943497203290462, 0.008488589897751808, 0.00862386729568243, 0.01049230620265007, 0.008211061358451843, 0.009050312452018261, 0.010890167206525803, 0.009003197774291039, 0.010288950055837631, 0.009225842542946339, 0.011561105959117413, 0.008536011911928654, 0.011598743498325348, 0.009678992442786694, 0.01024088729172945, 0.00937977246940136, 0.010481826029717922, 0.00971013493835926, 0.008294588886201382, 0.010151384398341179, 0.009189289063215256, 0.01113794930279255, 0.00860891118645668, 0.01301882229745388, 0.010725039057433605, 0.008885635063052177] [0.09501106292009354, 0.010706203989684582, 0.0018402435816824436, 0.0016578654758632183, 0.002888927236199379, 0.0012149513931944966, 0.0011643223697319627, 0.0017224457114934921, 0.0013845068169757724, 0.0016467421082779765, 0.0024088872596621513, 0.0021768915466964245, 0.0015579017344862223, 0.00165896350517869, 0.001975701656192541, 0.0011723819188773632, 0.001217357930727303, 0.0021630844566971064, 0.0034774893429130316, 0.0015222430229187012, 0.0011999798007309437, 0.0013213952770456672, 0.0011991194915026426, 0.0014145153108984232, 0.002854494145140052, 0.0026879715733230114, 0.0011597941629588604, 0.0020186060573905706, 0.0018370182951912284, 0.0018504677573218942, 0.0011840399820357561, 0.00858838390558958, 0.0016059023328125477, 0.0012954369885846972, 0.0011550573399290442, 0.011271570809185505, 0.0011532967910170555, 0.0013720097485929728, 0.001416392857208848, 0.005143848247826099, 0.005802609957754612, 0.0012596816523000598, 0.001559594995342195, 0.0012162210186943412, 0.0016135055338963866, 0.010286731645464897, 0.003425284754484892, 0.002548166550695896, 0.0013623273698613048, 0.0011854866752400994, 0.0024331356398761272, 0.007006498519331217, 0.007684201002120972, 0.003291809232905507, 0.0011317513417452574, 0.0012591348495334387, 0.004544450901448727, 0.0012670063879340887, 0.0013731886865571141, 0.0012986548244953156, 0.0018690127180889249, 0.015553805977106094, 0.0033692247234284878, 0.0011437574867159128, 0.005338828545063734, 0.001235641771927476, 0.0016617337241768837, 0.0021397529635578394, 0.0021221910137683153, 0.0016239718534052372, 0.0031346541363745928, 0.0011220750166103244, 0.0017024824628606439, 0.0011855446500703692, 0.004580939654260874, 0.004311639815568924, 0.006359407678246498, 0.001204747473821044, 0.0017456832574680448, 0.0014512911438941956, 0.0026711479295045137, 0.0025933822616934776, 0.0013564461842179298, 0.0017891981406137347, 0.0020826542750000954, 0.004413950722664595, 0.0029834420420229435, 0.002175204921513796, 0.001450162846595049, 0.001867637736722827, 0.0012247073464095592, 0.0015004805754870176, 0.0013298375997692347, 0.0012066609924659133, 0.002086987718939781, 0.0038863380905240774, 0.012220758944749832, 0.0012416968820616603, 0.0012329540913924575, 0.0022009755484759808]\n"
          ],
          "name": "stdout"
        },
        {
          "output_type": "display_data",
          "data": {
            "image/png": "[encoded data removed]",
            "text/plain": [
              "<Figure size 432x288 with 1 Axes>"
            ]
          },
          "metadata": {
            "tags": [],
            "needs_background": "light"
          }
        }
      ]
    },
    {
      "cell_type": "code",
      "metadata": {
        "colab": {
          "base_uri": "https://localhost:8080/",
          "height": 269
        },
        "id": "jyUn0adpEWAM",
        "outputId": "8ff259b1-52f8-4e03-cc8c-b5ce13af9cf0"
      },
      "source": [
        "#One-step forecast (Not so useful)\n",
        "outputs = model.predict(X)\n",
        "pred = outputs[:, 0]\n",
        "\n",
        "plt.plot(Y, label='values')\n",
        "plt.plot(pred, label='predictions')\n",
        "plt.legend()\n",
        "\n",
        "plt.show()"
      ],
      "execution_count": null,
      "outputs": [
        {
          "output_type": "display_data",
          "data": {
            "image/png": "[encoded data removed]",
            "text/plain": [
              "<Figure size 432x288 with 1 Axes>"
            ]
          },
          "metadata": {
            "tags": [],
            "needs_background": "light"
          }
        }
      ]
    },
    {
      "cell_type": "code",
      "metadata": {
        "colab": {
          "base_uri": "https://localhost:8080/"
        },
        "id": "aNuJnzXkFTxZ",
        "outputId": "7318ed8e-67fa-4408-e73f-c4579c2274fa"
      },
      "source": [
        "#Multi-step forecast (Actually important)\n",
        "target = Y[N//2:]\n",
        "predictions = np.zeros(target.shape[0])\n",
        "\n",
        "last_x = X[-N//2]\n",
        "\n",
        "for i in range(target.shape[0]):\n",
        "  p = model.predict(last_x.reshape(1, T, D))[0, 0]\n",
        "  # print(p.shape)\n",
        "  predictions[i] = p\n",
        "  if i%100==0:\n",
        "    print(i)\n",
        "\n",
        "  last_x = np.roll(last_x, -1)\n",
        "  last_x[-1] = p"
      ],
      "execution_count": null,
      "outputs": [
        {
          "output_type": "stream",
          "text": [
            "0\n",
            "100\n",
            "200\n",
            "300\n",
            "400\n",
            "500\n",
            "600\n",
            "700\n",
            "800\n",
            "900\n",
            "1000\n",
            "1100\n",
            "1200\n",
            "1300\n",
            "1400\n",
            "1500\n",
            "1600\n"
          ],
          "name": "stdout"
        }
      ]
    },
    {
      "cell_type": "code",
      "metadata": {
        "colab": {
          "base_uri": "https://localhost:8080/",
          "height": 265
        },
        "id": "z-2E7K2NGgh0",
        "outputId": "bb880470-8749-44a1-b420-61837b116669"
      },
      "source": [
        "plt.plot(target, label='target')\n",
        "plt.plot(predictions, label='predictions')\n",
        "plt.legend()\n",
        "\n",
        "plt.show()"
      ],
      "execution_count": null,
      "outputs": [
        {
          "output_type": "display_data",
          "data": {
            "image/png": "[encoded data removed]",
            "text/plain": [
              "<Figure size 432x288 with 1 Axes>"
            ]
          },
          "metadata": {
            "tags": [],
            "needs_background": "light"
          }
        }
      ]
    },
    {
      "cell_type": "code",
      "metadata": {
        "colab": {
          "base_uri": "https://localhost:8080/"
        },
        "id": "oLr2Ytn7HMmA",
        "outputId": "06b59160-517d-45c9-dd1d-981e689553a7"
      },
      "source": [
        "#Multi-step forecast upto 1 values\n",
        "before = 10\n",
        "target = Y[N//2-before:N//2+1]\n",
        "# print(target.shape)\n",
        "predictions = np.zeros(target.shape[0])\n",
        "# predictions[:10] = target[:10]\n",
        "\n",
        "last_x = X[-N//2]\n",
        "\n",
        "for i in range(before, target.shape[0]):\n",
        "  p = model.predict(last_x.reshape(1, T, D))[0, 0]\n",
        "  print(last_x[-1], target[-2])\n",
        "  print(p, target[-1])\n",
        "  predictions[i] = p\n",
        "\n",
        "  last_x = np.roll(last_x, -1)\n",
        "  last_x[-1] = p"
      ],
      "execution_count": null,
      "outputs": [
        {
          "output_type": "stream",
          "text": [
            "[-0.25398265] -0.253982645397769\n",
            "-0.26569325 -0.26177395215626875\n"
          ],
          "name": "stdout"
        }
      ]
    },
    {
      "cell_type": "code",
      "metadata": {
        "colab": {
          "base_uri": "https://localhost:8080/",
          "height": 265
        },
        "id": "7Y9-ZJavHVMQ",
        "outputId": "f815892c-5d7a-40df-e675-e036275d8ad2"
      },
      "source": [
        "plt.plot(target, label='target')\n",
        "plt.plot(predictions, label='predictions')\n",
        "plt.legend()\n",
        "plt.xticks(np.arange(0, 20, 1))\n",
        "plt.show()"
      ],
      "execution_count": null,
      "outputs": [
        {
          "output_type": "display_data",
          "data": {
            "image/png": "[encoded data removed]",
            "text/plain": [
              "<Figure size 432x288 with 1 Axes>"
            ]
          },
          "metadata": {
            "tags": [],
            "needs_background": "light"
          }
        }
      ]
    }
  ]
}